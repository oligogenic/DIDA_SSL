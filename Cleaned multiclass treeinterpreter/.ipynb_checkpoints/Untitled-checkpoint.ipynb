{
 "cells": [
  {
   "cell_type": "code",
   "execution_count": 1,
   "metadata": {},
   "outputs": [
    {
     "name": "stdout",
     "output_type": "stream",
     "text": [
      "Populating the interactive namespace from numpy and matplotlib\n"
     ]
    }
   ],
   "source": [
    "import pandas as pd\n",
    "%pylab inline\n",
    "from sklearn.ensemble import RandomForestClassifier\n",
    "from sklearn.ensemble.forest import ForestClassifier, ForestRegressor\n",
    "from sklearn.tree import DecisionTreeRegressor, DecisionTreeClassifier, _tree"
   ]
  },
  {
   "cell_type": "code",
   "execution_count": 2,
   "metadata": {},
   "outputs": [
    {
     "ename": "FileNotFoundError",
     "evalue": "File b'dida_posey_to_predict.csv' does not exist",
     "output_type": "error",
     "traceback": [
      "\u001b[0;31m---------------------------------------------------------------------------\u001b[0m",
      "\u001b[0;31mFileNotFoundError\u001b[0m                         Traceback (most recent call last)",
      "\u001b[0;32m<ipython-input-2-9ba283c05346>\u001b[0m in \u001b[0;36m<module>\u001b[0;34m()\u001b[0m\n\u001b[0;32m----> 1\u001b[0;31m \u001b[0mdf\u001b[0m \u001b[0;34m=\u001b[0m \u001b[0mpd\u001b[0m\u001b[0;34m.\u001b[0m\u001b[0mread_csv\u001b[0m\u001b[0;34m(\u001b[0m\u001b[0;34m'dida_posey_to_predict.csv'\u001b[0m\u001b[0;34m,\u001b[0m \u001b[0mindex_col\u001b[0m\u001b[0;34m=\u001b[0m\u001b[0;36m0\u001b[0m\u001b[0;34m)\u001b[0m\u001b[0;34m\u001b[0m\u001b[0m\n\u001b[0m\u001b[1;32m      2\u001b[0m \u001b[0mX\u001b[0m \u001b[0;34m=\u001b[0m \u001b[0mdf\u001b[0m\u001b[0;34m[\u001b[0m \u001b[0;34m'CADD1,CADD2,RecA,EssA,CADD3,CADD4,RecB,EssB,Path'\u001b[0m\u001b[0;34m.\u001b[0m\u001b[0msplit\u001b[0m\u001b[0;34m(\u001b[0m\u001b[0;34m','\u001b[0m\u001b[0;34m)\u001b[0m \u001b[0;34m]\u001b[0m\u001b[0;34m\u001b[0m\u001b[0m\n\u001b[1;32m      3\u001b[0m \u001b[0my\u001b[0m \u001b[0;34m=\u001b[0m \u001b[0mdf\u001b[0m\u001b[0;34m[\u001b[0m\u001b[0;34m'DE'\u001b[0m\u001b[0;34m]\u001b[0m\u001b[0;34m\u001b[0m\u001b[0m\n\u001b[1;32m      4\u001b[0m \u001b[0mclasses\u001b[0m \u001b[0;34m=\u001b[0m \u001b[0mdf\u001b[0m\u001b[0;34m[\u001b[0m\u001b[0;34m'Pair'\u001b[0m\u001b[0;34m]\u001b[0m\u001b[0;34m[\u001b[0m\u001b[0my\u001b[0m \u001b[0;34m!=\u001b[0m \u001b[0;34m'UK'\u001b[0m\u001b[0;34m]\u001b[0m\u001b[0;34m\u001b[0m\u001b[0m\n\u001b[1;32m      5\u001b[0m \u001b[0mX\u001b[0m \u001b[0;34m=\u001b[0m \u001b[0marray\u001b[0m\u001b[0;34m(\u001b[0m\u001b[0mX\u001b[0m\u001b[0;34m[\u001b[0m\u001b[0my\u001b[0m \u001b[0;34m!=\u001b[0m \u001b[0;34m'UK'\u001b[0m\u001b[0;34m]\u001b[0m\u001b[0;34m)\u001b[0m\u001b[0;34m.\u001b[0m\u001b[0mastype\u001b[0m\u001b[0;34m(\u001b[0m\u001b[0mnp\u001b[0m\u001b[0;34m.\u001b[0m\u001b[0mfloat32\u001b[0m\u001b[0;34m)\u001b[0m\u001b[0;34m\u001b[0m\u001b[0m\n",
      "\u001b[0;32m/Users/nversbra/anaconda3/lib/python3.6/site-packages/pandas/io/parsers.py\u001b[0m in \u001b[0;36mparser_f\u001b[0;34m(filepath_or_buffer, sep, delimiter, header, names, index_col, usecols, squeeze, prefix, mangle_dupe_cols, dtype, engine, converters, true_values, false_values, skipinitialspace, skiprows, nrows, na_values, keep_default_na, na_filter, verbose, skip_blank_lines, parse_dates, infer_datetime_format, keep_date_col, date_parser, dayfirst, iterator, chunksize, compression, thousands, decimal, lineterminator, quotechar, quoting, escapechar, comment, encoding, dialect, tupleize_cols, error_bad_lines, warn_bad_lines, skipfooter, skip_footer, doublequote, delim_whitespace, as_recarray, compact_ints, use_unsigned, low_memory, buffer_lines, memory_map, float_precision)\u001b[0m\n\u001b[1;32m    653\u001b[0m                     skip_blank_lines=skip_blank_lines)\n\u001b[1;32m    654\u001b[0m \u001b[0;34m\u001b[0m\u001b[0m\n\u001b[0;32m--> 655\u001b[0;31m         \u001b[0;32mreturn\u001b[0m \u001b[0m_read\u001b[0m\u001b[0;34m(\u001b[0m\u001b[0mfilepath_or_buffer\u001b[0m\u001b[0;34m,\u001b[0m \u001b[0mkwds\u001b[0m\u001b[0;34m)\u001b[0m\u001b[0;34m\u001b[0m\u001b[0m\n\u001b[0m\u001b[1;32m    656\u001b[0m \u001b[0;34m\u001b[0m\u001b[0m\n\u001b[1;32m    657\u001b[0m     \u001b[0mparser_f\u001b[0m\u001b[0;34m.\u001b[0m\u001b[0m__name__\u001b[0m \u001b[0;34m=\u001b[0m \u001b[0mname\u001b[0m\u001b[0;34m\u001b[0m\u001b[0m\n",
      "\u001b[0;32m/Users/nversbra/anaconda3/lib/python3.6/site-packages/pandas/io/parsers.py\u001b[0m in \u001b[0;36m_read\u001b[0;34m(filepath_or_buffer, kwds)\u001b[0m\n\u001b[1;32m    403\u001b[0m \u001b[0;34m\u001b[0m\u001b[0m\n\u001b[1;32m    404\u001b[0m     \u001b[0;31m# Create the parser.\u001b[0m\u001b[0;34m\u001b[0m\u001b[0;34m\u001b[0m\u001b[0m\n\u001b[0;32m--> 405\u001b[0;31m     \u001b[0mparser\u001b[0m \u001b[0;34m=\u001b[0m \u001b[0mTextFileReader\u001b[0m\u001b[0;34m(\u001b[0m\u001b[0mfilepath_or_buffer\u001b[0m\u001b[0;34m,\u001b[0m \u001b[0;34m**\u001b[0m\u001b[0mkwds\u001b[0m\u001b[0;34m)\u001b[0m\u001b[0;34m\u001b[0m\u001b[0m\n\u001b[0m\u001b[1;32m    406\u001b[0m \u001b[0;34m\u001b[0m\u001b[0m\n\u001b[1;32m    407\u001b[0m     \u001b[0;32mif\u001b[0m \u001b[0mchunksize\u001b[0m \u001b[0;32mor\u001b[0m \u001b[0miterator\u001b[0m\u001b[0;34m:\u001b[0m\u001b[0;34m\u001b[0m\u001b[0m\n",
      "\u001b[0;32m/Users/nversbra/anaconda3/lib/python3.6/site-packages/pandas/io/parsers.py\u001b[0m in \u001b[0;36m__init__\u001b[0;34m(self, f, engine, **kwds)\u001b[0m\n\u001b[1;32m    760\u001b[0m             \u001b[0mself\u001b[0m\u001b[0;34m.\u001b[0m\u001b[0moptions\u001b[0m\u001b[0;34m[\u001b[0m\u001b[0;34m'has_index_names'\u001b[0m\u001b[0;34m]\u001b[0m \u001b[0;34m=\u001b[0m \u001b[0mkwds\u001b[0m\u001b[0;34m[\u001b[0m\u001b[0;34m'has_index_names'\u001b[0m\u001b[0;34m]\u001b[0m\u001b[0;34m\u001b[0m\u001b[0m\n\u001b[1;32m    761\u001b[0m \u001b[0;34m\u001b[0m\u001b[0m\n\u001b[0;32m--> 762\u001b[0;31m         \u001b[0mself\u001b[0m\u001b[0;34m.\u001b[0m\u001b[0m_make_engine\u001b[0m\u001b[0;34m(\u001b[0m\u001b[0mself\u001b[0m\u001b[0;34m.\u001b[0m\u001b[0mengine\u001b[0m\u001b[0;34m)\u001b[0m\u001b[0;34m\u001b[0m\u001b[0m\n\u001b[0m\u001b[1;32m    763\u001b[0m \u001b[0;34m\u001b[0m\u001b[0m\n\u001b[1;32m    764\u001b[0m     \u001b[0;32mdef\u001b[0m \u001b[0mclose\u001b[0m\u001b[0;34m(\u001b[0m\u001b[0mself\u001b[0m\u001b[0;34m)\u001b[0m\u001b[0;34m:\u001b[0m\u001b[0;34m\u001b[0m\u001b[0m\n",
      "\u001b[0;32m/Users/nversbra/anaconda3/lib/python3.6/site-packages/pandas/io/parsers.py\u001b[0m in \u001b[0;36m_make_engine\u001b[0;34m(self, engine)\u001b[0m\n\u001b[1;32m    964\u001b[0m     \u001b[0;32mdef\u001b[0m \u001b[0m_make_engine\u001b[0m\u001b[0;34m(\u001b[0m\u001b[0mself\u001b[0m\u001b[0;34m,\u001b[0m \u001b[0mengine\u001b[0m\u001b[0;34m=\u001b[0m\u001b[0;34m'c'\u001b[0m\u001b[0;34m)\u001b[0m\u001b[0;34m:\u001b[0m\u001b[0;34m\u001b[0m\u001b[0m\n\u001b[1;32m    965\u001b[0m         \u001b[0;32mif\u001b[0m \u001b[0mengine\u001b[0m \u001b[0;34m==\u001b[0m \u001b[0;34m'c'\u001b[0m\u001b[0;34m:\u001b[0m\u001b[0;34m\u001b[0m\u001b[0m\n\u001b[0;32m--> 966\u001b[0;31m             \u001b[0mself\u001b[0m\u001b[0;34m.\u001b[0m\u001b[0m_engine\u001b[0m \u001b[0;34m=\u001b[0m \u001b[0mCParserWrapper\u001b[0m\u001b[0;34m(\u001b[0m\u001b[0mself\u001b[0m\u001b[0;34m.\u001b[0m\u001b[0mf\u001b[0m\u001b[0;34m,\u001b[0m \u001b[0;34m**\u001b[0m\u001b[0mself\u001b[0m\u001b[0;34m.\u001b[0m\u001b[0moptions\u001b[0m\u001b[0;34m)\u001b[0m\u001b[0;34m\u001b[0m\u001b[0m\n\u001b[0m\u001b[1;32m    967\u001b[0m         \u001b[0;32melse\u001b[0m\u001b[0;34m:\u001b[0m\u001b[0;34m\u001b[0m\u001b[0m\n\u001b[1;32m    968\u001b[0m             \u001b[0;32mif\u001b[0m \u001b[0mengine\u001b[0m \u001b[0;34m==\u001b[0m \u001b[0;34m'python'\u001b[0m\u001b[0;34m:\u001b[0m\u001b[0;34m\u001b[0m\u001b[0m\n",
      "\u001b[0;32m/Users/nversbra/anaconda3/lib/python3.6/site-packages/pandas/io/parsers.py\u001b[0m in \u001b[0;36m__init__\u001b[0;34m(self, src, **kwds)\u001b[0m\n\u001b[1;32m   1580\u001b[0m         \u001b[0mkwds\u001b[0m\u001b[0;34m[\u001b[0m\u001b[0;34m'allow_leading_cols'\u001b[0m\u001b[0;34m]\u001b[0m \u001b[0;34m=\u001b[0m \u001b[0mself\u001b[0m\u001b[0;34m.\u001b[0m\u001b[0mindex_col\u001b[0m \u001b[0;32mis\u001b[0m \u001b[0;32mnot\u001b[0m \u001b[0;32mFalse\u001b[0m\u001b[0;34m\u001b[0m\u001b[0m\n\u001b[1;32m   1581\u001b[0m \u001b[0;34m\u001b[0m\u001b[0m\n\u001b[0;32m-> 1582\u001b[0;31m         \u001b[0mself\u001b[0m\u001b[0;34m.\u001b[0m\u001b[0m_reader\u001b[0m \u001b[0;34m=\u001b[0m \u001b[0mparsers\u001b[0m\u001b[0;34m.\u001b[0m\u001b[0mTextReader\u001b[0m\u001b[0;34m(\u001b[0m\u001b[0msrc\u001b[0m\u001b[0;34m,\u001b[0m \u001b[0;34m**\u001b[0m\u001b[0mkwds\u001b[0m\u001b[0;34m)\u001b[0m\u001b[0;34m\u001b[0m\u001b[0m\n\u001b[0m\u001b[1;32m   1583\u001b[0m \u001b[0;34m\u001b[0m\u001b[0m\n\u001b[1;32m   1584\u001b[0m         \u001b[0;31m# XXX\u001b[0m\u001b[0;34m\u001b[0m\u001b[0;34m\u001b[0m\u001b[0m\n",
      "\u001b[0;32mpandas/_libs/parsers.pyx\u001b[0m in \u001b[0;36mpandas._libs.parsers.TextReader.__cinit__ (pandas/_libs/parsers.c:4209)\u001b[0;34m()\u001b[0m\n",
      "\u001b[0;32mpandas/_libs/parsers.pyx\u001b[0m in \u001b[0;36mpandas._libs.parsers.TextReader._setup_parser_source (pandas/_libs/parsers.c:8873)\u001b[0;34m()\u001b[0m\n",
      "\u001b[0;31mFileNotFoundError\u001b[0m: File b'dida_posey_to_predict.csv' does not exist"
     ]
    }
   ],
   "source": [
    "df = pd.read_csv('dida_posey_to_predict.csv', index_col=0)\n",
    "X = df[ 'CADD1,CADD2,RecA,EssA,CADD3,CADD4,RecB,EssB,Path'.split(',') ]\n",
    "y = df['DE']\n",
    "classes = df['Pair'][y != 'UK']\n",
    "X = array(X[y != 'UK']).astype(np.float32)\n",
    "y = y[y != 'UK']"
   ]
  },
  {
   "cell_type": "code",
   "execution_count": null,
   "metadata": {
    "collapsed": true
   },
   "outputs": [],
   "source": [
    "from time import time\n",
    "\n",
    "def _interpret_tree(tree, X, n_labels):\n",
    "    \n",
    "    # Tree preprocessing allowing down-top search\n",
    "    \n",
    "    parents = [-1 for _ in range(tree.node_count)]\n",
    "    to_pursue = [0]\n",
    "    while len(to_pursue):\n",
    "        node_i = to_pursue.pop()\n",
    "        child_l = tree.children_left[node_i]\n",
    "        if child_l != _tree.TREE_LEAF:\n",
    "            parents[child_l] = node_i\n",
    "            child_r = tree.children_right[node_i]\n",
    "            parents[child_r] = node_i\n",
    "            to_pursue.append(child_l)\n",
    "            to_pursue.append(child_r)\n",
    "            \n",
    "    # Values normalization -> probas\n",
    "            \n",
    "    values = tree.value.squeeze(axis=1)\n",
    "    values /= values.sum(axis=1)[:, np.newaxis]\n",
    "    \n",
    "    n_features = len(X[0])\n",
    "    \n",
    "    f_contribs = [ zeros( (1, n_labels) ) for _ in range(n_features) ]\n",
    "    biases = zeros( (1, n_labels) )\n",
    "    f_indices = list(tree.feature)\n",
    "    \n",
    "    # For each sample to test, we check in which leaf it lands\n",
    "    \n",
    "    leaves = tree.apply(X)\n",
    "    \n",
    "    for leaf in leaves:\n",
    "        cur_node = leaf\n",
    "        while cur_node != -1:\n",
    "            par_node = parents[cur_node]\n",
    "            if par_node >= 0:\n",
    "                resp_feature = f_indices[par_node]\n",
    "                f_contribs[resp_feature] += (values[cur_node] - values[par_node])\n",
    "            cur_node = par_node\n",
    "        biases += values[leaf]\n",
    "    f_contribs = [i/len(X) for i in f_contribs]\n",
    "    biases /= len(X)\n",
    "    \n",
    "    return f_contribs, biases\n",
    "\n",
    "def interpret_forest(forest, X, n_labels):\n",
    "    f_contribs = [ zeros( (1, n_labels) ) for _ in range(len(X[0])) ]\n",
    "    f_biases = 0\n",
    "    for tree in map(lambda x: x.tree_, forest.estimators_):\n",
    "        t_contribs, t_biases = _interpret_tree(tree, X, n_labels)\n",
    "        f_contribs = [x + y/forest.n_estimators for x, y in zip(f_contribs, t_contribs)]\n",
    "        f_biases += t_biases/forest.n_estimators\n",
    "    return f_contribs, f_biases"
   ]
  },
  {
   "cell_type": "code",
   "execution_count": null,
   "metadata": {
    "collapsed": true
   },
   "outputs": [],
   "source": [
    "from time import time\n",
    "\n",
    "def _interpret_tree(tree, X, n_labels):\n",
    "    \n",
    "    # Tree preprocessing allowing down-top search\n",
    "    \n",
    "    parents = [-1 for _ in range(tree.node_count)]\n",
    "    to_pursue = [0]\n",
    "    while len(to_pursue):\n",
    "        node_i = to_pursue.pop()\n",
    "        child_l = tree.children_left[node_i]\n",
    "        if child_l != _tree.TREE_LEAF:\n",
    "            parents[child_l] = node_i\n",
    "            child_r = tree.children_right[node_i]\n",
    "            parents[child_r] = node_i\n",
    "            to_pursue.append(child_l)\n",
    "            to_pursue.append(child_r)\n",
    "    \n",
    "    # Values normalization -> probas\n",
    "            \n",
    "    values = tree.value.squeeze(axis=1)\n",
    "    values /= values.sum(axis=1)[:, np.newaxis]\n",
    "    \n",
    "    n_features = len(X[0])\n",
    "    \n",
    "    f_contribs = [ zeros( (1, n_labels) ) for _ in range(n_features) ]\n",
    "    biases = zeros( (1, n_labels) )\n",
    "    f_indices = list(tree.feature)\n",
    "    \n",
    "    # For each sample to test, we check in which leaf it lands\n",
    "    \n",
    "    leaves = tree.apply(X)\n",
    "    leaves_value = {}\n",
    "    \n",
    "    for leaf in leaves:\n",
    "        if leaf not in leaves_value:\n",
    "            l_contribs = [ zeros( (1, n_labels) ) for _ in range(n_features) ]\n",
    "            cur_node = leaf\n",
    "            while cur_node != -1:\n",
    "                par_node = parents[cur_node]\n",
    "                if par_node >= 0:\n",
    "                    resp_feature = f_indices[par_node]\n",
    "                    l_contribs[resp_feature] += (values[cur_node] - values[par_node])\n",
    "                cur_node = par_node\n",
    "            leaves_value[leaf] = l_contribs, values[leaf]\n",
    "        l_contribs, l_bias = leaves_value[leaf]\n",
    "        f_contribs = [f_i + c_i for f_i, c_i in zip(f_contribs, l_contribs) ]\n",
    "        biases += l_bias\n",
    "    f_contribs = [i/len(X) for i in f_contribs]\n",
    "    biases /= len(X)\n",
    "    \n",
    "    return f_contribs, biases\n",
    "\n",
    "def interpret_forest(forest, X, n_labels):\n",
    "    f_contribs = [ zeros( (1, n_labels) ) for _ in range(len(X[0])) ]\n",
    "    f_biases = 0\n",
    "    for tree in map(lambda x: x.tree_, forest.estimators_):\n",
    "        t_contribs, t_biases = _interpret_tree(tree, X, n_labels)\n",
    "        f_contribs = [x + y/forest.n_estimators for x, y in zip(f_contribs, t_contribs)]\n",
    "        f_biases += t_biases/forest.n_estimators\n",
    "    return f_contribs, f_biases"
   ]
  },
  {
   "cell_type": "code",
   "execution_count": null,
   "metadata": {
    "collapsed": true
   },
   "outputs": [],
   "source": [
    "from sklearn.model_selection import LeaveOneGroupOut\n",
    "\n",
    "logo = LeaveOneGroupOut()\n",
    "all_contribs = {\n",
    "    name: zeros( (3, 9) )\n",
    "    for name in ('CO', 'DD', 'TD')\n",
    "}\n",
    "clf = RandomForestClassifier(max_depth=10,criterion='gini').fit(X, y)\n",
    "for train_is, test_is in logo.split(X, y, classes):\n",
    "    \n",
    "    clf.fit(X[train_is], y[train_is])\n",
    "    contribs, bias = interpret_forest(clf, X[test_is], 3)\n",
    "    label = y[test_is][0]\n",
    "    for i in range(9):\n",
    "        for j in range(3):\n",
    "            all_contribs[label][j,i] += contribs[i][0][j]"
   ]
  },
  {
   "cell_type": "code",
   "execution_count": null,
   "metadata": {},
   "outputs": [],
   "source": [
    "figsize(12, 8)\n",
    "width = 1/45\n",
    "xs = arange(9) / 9\n",
    "\n",
    "fig, _ = subplots(3, 1, figsize=(8,12))\n",
    "features = \"CADD1,CADD2,RecA,EssA,CADD3,CADD4,RecB,EssB,Path\".split(',')\n",
    "\n",
    "for i, l, t in zip( range(3), ('CO', 'TD', 'DD'), ('true digenic', 'monogenic+modifier', 'dual molecular diagnoses') ):\n",
    "    \n",
    "    subplot(3,1,i+1)\n",
    "    tight_layout()\n",
    "    \n",
    "    contrib = all_contribs[l]\n",
    "\n",
    "    results_co = contrib[0]\n",
    "    results_dd = contrib[1]\n",
    "    results_td = contrib[2]\n",
    "\n",
    "    bar(xs, results_dd, width, color=(0/255, 146/255, 146/255, 1), label=\"Dual molecular diagnoses\", bottom=10e-5)\n",
    "    bar(xs + width, results_td, width, color=(182/255, 109/255, 255/255, 1), label=\"Monogenic + modifier\", bottom=10e-5)\n",
    "    bar(xs + 2*width, results_co, width, color=(219/255, 130/255, 0/255, 1), label=\"True digenic\", bottom=10e-5)\n",
    "\n",
    "    yticks(fontsize=12)\n",
    "    xticks(xs + width, features, fontsize=12)\n",
    "    xlabel('Feature', fontsize=15)\n",
    "    ylabel('Contribution', fontsize=15)\n",
    "    if i == 0:\n",
    "        legend(prop={'size': 12})\n",
    "    title(f'Features action pulling/repelling {t} samples\\nwith respect to each class.', fontsize=15)\n",
    "    savefig('contribution_new.png', format='png', bbox_inches='tight')\n",
    "    savefig('contribution_new.eps', format='eps', bbox_inches='tight')"
   ]
  },
  {
   "cell_type": "code",
   "execution_count": null,
   "metadata": {
    "collapsed": true
   },
   "outputs": [],
   "source": [
    "all_contribs"
   ]
  },
  {
   "cell_type": "code",
   "execution_count": null,
   "metadata": {},
   "outputs": [],
   "source": [
    "len(classes)"
   ]
  },
  {
   "cell_type": "code",
   "execution_count": null,
   "metadata": {
    "collapsed": true
   },
   "outputs": [],
   "source": []
  }
 ],
 "metadata": {
  "kernelspec": {
   "display_name": "Python 3",
   "language": "python",
   "name": "python3"
  },
  "language_info": {
   "codemirror_mode": {
    "name": "ipython",
    "version": 3
   },
   "file_extension": ".py",
   "mimetype": "text/x-python",
   "name": "python",
   "nbconvert_exporter": "python",
   "pygments_lexer": "ipython3",
   "version": "3.6.1"
  }
 },
 "nbformat": 4,
 "nbformat_minor": 2
}
