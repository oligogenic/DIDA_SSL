{
 "cells": [
  {
   "cell_type": "code",
   "execution_count": 1,
   "metadata": {},
   "outputs": [
    {
     "name": "stdout",
     "output_type": "stream",
     "text": [
      "Populating the interactive namespace from numpy and matplotlib\n"
     ]
    }
   ],
   "source": [
    "import pandas as pd\n",
    "%pylab inline"
   ]
  },
  {
   "cell_type": "code",
   "execution_count": 2,
   "metadata": {},
   "outputs": [
    {
     "data": {
      "text/html": [
       "<div>\n",
       "<style>\n",
       "    .dataframe thead tr:only-child th {\n",
       "        text-align: right;\n",
       "    }\n",
       "\n",
       "    .dataframe thead th {\n",
       "        text-align: left;\n",
       "    }\n",
       "\n",
       "    .dataframe tbody tr th {\n",
       "        vertical-align: top;\n",
       "    }\n",
       "</style>\n",
       "<table border=\"1\" class=\"dataframe\">\n",
       "  <thead>\n",
       "    <tr style=\"text-align: right;\">\n",
       "      <th></th>\n",
       "      <th>GeneA</th>\n",
       "      <th>GeneB</th>\n",
       "      <th>Alt_varA</th>\n",
       "      <th>PosA</th>\n",
       "      <th>Alt_varB</th>\n",
       "      <th>PosB</th>\n",
       "      <th>Support_score</th>\n",
       "      <th>Classification_score</th>\n",
       "      <th>Predicted_class</th>\n",
       "      <th>95-99%_confidence</th>\n",
       "      <th>Type</th>\n",
       "    </tr>\n",
       "    <tr>\n",
       "      <th>Comb_No</th>\n",
       "      <th></th>\n",
       "      <th></th>\n",
       "      <th></th>\n",
       "      <th></th>\n",
       "      <th></th>\n",
       "      <th></th>\n",
       "      <th></th>\n",
       "      <th></th>\n",
       "      <th></th>\n",
       "      <th></th>\n",
       "      <th></th>\n",
       "    </tr>\n",
       "  </thead>\n",
       "  <tbody>\n",
       "    <tr>\n",
       "      <th>1</th>\n",
       "      <td>NaN</td>\n",
       "      <td>NaN</td>\n",
       "      <td>NaN</td>\n",
       "      <td>NaN</td>\n",
       "      <td>NaN</td>\n",
       "      <td>NaN</td>\n",
       "      <td>NaN</td>\n",
       "      <td>NaN</td>\n",
       "      <td>NaN</td>\n",
       "      <td>NaN</td>\n",
       "      <td>NaN</td>\n",
       "    </tr>\n",
       "    <tr>\n",
       "      <th>2</th>\n",
       "      <td>NaN</td>\n",
       "      <td>NaN</td>\n",
       "      <td>NaN</td>\n",
       "      <td>NaN</td>\n",
       "      <td>NaN</td>\n",
       "      <td>NaN</td>\n",
       "      <td>NaN</td>\n",
       "      <td>NaN</td>\n",
       "      <td>NaN</td>\n",
       "      <td>NaN</td>\n",
       "      <td>NaN</td>\n",
       "    </tr>\n",
       "    <tr>\n",
       "      <th>3</th>\n",
       "      <td>NaN</td>\n",
       "      <td>NaN</td>\n",
       "      <td>NaN</td>\n",
       "      <td>NaN</td>\n",
       "      <td>NaN</td>\n",
       "      <td>NaN</td>\n",
       "      <td>NaN</td>\n",
       "      <td>NaN</td>\n",
       "      <td>NaN</td>\n",
       "      <td>NaN</td>\n",
       "      <td>NaN</td>\n",
       "    </tr>\n",
       "    <tr>\n",
       "      <th>4</th>\n",
       "      <td>NaN</td>\n",
       "      <td>NaN</td>\n",
       "      <td>NaN</td>\n",
       "      <td>NaN</td>\n",
       "      <td>NaN</td>\n",
       "      <td>NaN</td>\n",
       "      <td>NaN</td>\n",
       "      <td>NaN</td>\n",
       "      <td>NaN</td>\n",
       "      <td>NaN</td>\n",
       "      <td>NaN</td>\n",
       "    </tr>\n",
       "    <tr>\n",
       "      <th>5</th>\n",
       "      <td>ENG</td>\n",
       "      <td>ASXL3</td>\n",
       "      <td>C/-</td>\n",
       "      <td>130581941/-</td>\n",
       "      <td>T/-</td>\n",
       "      <td>31323161/-</td>\n",
       "      <td>93.2</td>\n",
       "      <td>0.626779</td>\n",
       "      <td>Disease-causing</td>\n",
       "      <td>95%</td>\n",
       "      <td>Distinct</td>\n",
       "    </tr>\n",
       "  </tbody>\n",
       "</table>\n",
       "</div>"
      ],
      "text/plain": [
       "        GeneA  GeneB Alt_varA         PosA Alt_varB        PosB  \\\n",
       "Comb_No                                                           \n",
       "1         NaN    NaN      NaN          NaN      NaN         NaN   \n",
       "2         NaN    NaN      NaN          NaN      NaN         NaN   \n",
       "3         NaN    NaN      NaN          NaN      NaN         NaN   \n",
       "4         NaN    NaN      NaN          NaN      NaN         NaN   \n",
       "5         ENG  ASXL3      C/-  130581941/-      T/-  31323161/-   \n",
       "\n",
       "         Support_score  Classification_score  Predicted_class  \\\n",
       "Comb_No                                                         \n",
       "1                  NaN                   NaN              NaN   \n",
       "2                  NaN                   NaN              NaN   \n",
       "3                  NaN                   NaN              NaN   \n",
       "4                  NaN                   NaN              NaN   \n",
       "5                 93.2              0.626779  Disease-causing   \n",
       "\n",
       "        95-99%_confidence      Type  \n",
       "Comb_No                              \n",
       "1                     NaN       NaN  \n",
       "2                     NaN       NaN  \n",
       "3                     NaN       NaN  \n",
       "4                     NaN       NaN  \n",
       "5                     95%  Distinct  "
      ]
     },
     "execution_count": 2,
     "metadata": {},
     "output_type": "execute_result"
    }
   ],
   "source": [
    "df_posey = pd.read_csv('posey_results.txt', sep='\\t', index_col=0)\n",
    "df_posey.head()"
   ]
  },
  {
   "cell_type": "code",
   "execution_count": 3,
   "metadata": {
    "collapsed": true
   },
   "outputs": [],
   "source": [
    "from collections import namedtuple\n",
    "Row = namedtuple('Row', 'GeneA,GeneB,Alt_varA,PosA,Alt_varB,PosB,Support_score,Classification_score,Predicted_class,confidence,Type')"
   ]
  },
  {
   "cell_type": "code",
   "execution_count": 4,
   "metadata": {
    "collapsed": true
   },
   "outputs": [],
   "source": [
    "posey_rows = {}\n",
    "for row in array(df_posey):\n",
    "    if type(row[0]) is float: continue;\n",
    "    posey_rows[row[0]+'/'+row[1]] = Row(*row)"
   ]
  },
  {
   "cell_type": "code",
   "execution_count": 5,
   "metadata": {
    "collapsed": true
   },
   "outputs": [],
   "source": [
    "RowClassifier = namedtuple('RowClassifier', 'CADD1,CADD2,RecA,EssA,CADD3,CADD4,RecB,EssB,Pathway,GenePair,Type')"
   ]
  },
  {
   "cell_type": "code",
   "execution_count": 6,
   "metadata": {
    "collapsed": true
   },
   "outputs": [],
   "source": [
    "df_ess = pd.read_csv('Mus musculus_consolidated.csv')[ ['symbols','essentiality consensus'] ]\n",
    "df_ess.head()\n",
    "\n",
    "essentialities = {}\n",
    "for row in array(df_ess):\n",
    "    if type(row[0]) is float: continue;\n",
    "    essentialities[row[0].upper()] = 1 if row[1] == 'Essential' else 0"
   ]
  },
  {
   "cell_type": "code",
   "execution_count": 7,
   "metadata": {
    "collapsed": true
   },
   "outputs": [],
   "source": [
    "excel_rec = pd.read_excel('recessiveness_science.xlsx')[ ['gene', 'P(rec)'] ]\n",
    "\n",
    "recessiveness = {}\n",
    "for row in array(excel_rec):\n",
    "    if type(row[0]) is float: continue;\n",
    "    recessiveness[row[0].upper()] = row[1]"
   ]
  },
  {
   "cell_type": "code",
   "execution_count": 8,
   "metadata": {
    "collapsed": true
   },
   "outputs": [],
   "source": [
    "df_cpra = pd.read_csv('dual_diag_chrom_pos_no_space.tsv', index_col=0)\n",
    "\n",
    "with open('dual_diagnosis_tocadd_nodots.vcf', 'w') as f_output:\n",
    "    f_output.write('\\t'.join( ('#CHROM', 'POS', 'ID', 'REF', 'ALT') ) + '\\n')\n",
    "    for i, row in enumerate(array(df_cpra)):\n",
    "        row = row[2:]\n",
    "        if row[0] == '.': continue;\n",
    "        row[0] = row[0][3:]\n",
    "        f_output.write(str(row[0]) + '\\t' + str(row[1]) + '\\tvar' + str(i) + '\\t' + str(row[2]) + '\\t' + str(row[3]) + '\\n' )"
   ]
  },
  {
   "cell_type": "code",
   "execution_count": 9,
   "metadata": {
    "collapsed": true
   },
   "outputs": [],
   "source": [
    "df_cadd = pd.read_csv('dual_diag_cadd_scores.tsv', sep='\\t')\n",
    "df_cadd.head()\n",
    "\n",
    "def get_cpra(row, c, p, r, a):\n",
    "    if row[c] == '.': return '0';\n",
    "    return (\n",
    "        str(row[c] if 'chr' not in row[c] else row[c][3:]) + '-' +\n",
    "        str(row[p]) + '-' +\n",
    "        str(row[r]) + '-' +\n",
    "        str(row[a])\n",
    "    )\n",
    "\n",
    "cadd_from_cpra = {}\n",
    "for row in df_cadd.iterrows():\n",
    "    row = row[1]\n",
    "    cadd_from_cpra[get_cpra(row, 'CHROM', 'POS', 'REF', 'ALT')] = row['RawScore']"
   ]
  },
  {
   "cell_type": "code",
   "execution_count": 10,
   "metadata": {
    "collapsed": true
   },
   "outputs": [],
   "source": [
    "df_cpra['CADD'] = df_cpra.apply( lambda row: cadd_from_cpra.setdefault(get_cpra(row, 'chr', 'pos', 'ref', 'alt'), 0), axis=1 )"
   ]
  },
  {
   "cell_type": "code",
   "execution_count": 11,
   "metadata": {
    "collapsed": true
   },
   "outputs": [],
   "source": [
    "row_from_gpa = {}\n",
    "for row in df_cpra.iterrows():\n",
    "    row = row[1]\n",
    "    row_from_gpa[ row['gene'] + str(row['pos']) + row['alt']] = row"
   ]
  },
  {
   "cell_type": "code",
   "execution_count": 12,
   "metadata": {
    "collapsed": true
   },
   "outputs": [],
   "source": [
    "with open('posey_to_predict.csv', 'w') as f_out:\n",
    "    f_out.write('CADD1,CADD2,RecA,EssA,CADD3,CADD4,RecB,EssB,Path,GenePair,Type\\n')\n",
    "    for gene_pair in posey_rows:\n",
    "        features = []\n",
    "        row = posey_rows[gene_pair]\n",
    "        \n",
    "        #CADD1, CADD2\n",
    "        pos_a, pos_b = row.PosA.split('/')\n",
    "        mod_a, mod_b = row.Alt_varA.split('/')\n",
    "        mod_b = mod_b if mod_b != 'na' else mod_a\n",
    "        pos_b = pos_b if pos_b != 'na' else pos_a\n",
    "        \n",
    "        row_a = row_from_gpa.setdefault(row.GeneA + str(pos_a) + mod_a, None)\n",
    "        row_b = row_from_gpa.setdefault(row.GeneA + str(pos_b) + mod_b, None)\n",
    "        \n",
    "        features.append(row_a['CADD'])\n",
    "        features.append(0 if row_b is None else row_b['CADD'])\n",
    "        features.append(recessiveness.setdefault(row.GeneA, 'N/A'))\n",
    "        features.append(essentialities.setdefault(row.GeneA, 'N/A'))\n",
    "        \n",
    "        #CADD3, CADD4\n",
    "        pos_a, pos_b = row.PosB.split('/')\n",
    "        mod_a, mod_b = row.Alt_varB.split('/')\n",
    "        mod_b = mod_b if mod_b != 'na' else mod_a\n",
    "        pos_b = pos_b if pos_b != 'na' else pos_a\n",
    "        \n",
    "        row_a = row_from_gpa.setdefault(row.GeneB + str(pos_a) + mod_a, None)\n",
    "        row_b = row_from_gpa.setdefault(row.GeneB + str(pos_b) + mod_b, None)\n",
    "        \n",
    "        features.append(row_a['CADD'])\n",
    "        features.append(0 if row_b is None else row_b['CADD'])\n",
    "        features.append(recessiveness.setdefault(row.GeneB, 'N/A'))\n",
    "        features.append(essentialities.setdefault(row.GeneB, 'N/A'))\n",
    "        \n",
    "        # Pathway\n",
    "        features.append('?')\n",
    "        \n",
    "        # Gene pair\n",
    "        features.append(gene_pair)\n",
    "        \n",
    "        # Type\n",
    "        features.append(row.Type)\n",
    "        \n",
    "        features = [i if i != -1 else 'N/A' for i in features]\n",
    "        \n",
    "        f_out.write(','.join(map(str, features)) + '\\n')"
   ]
  },
  {
   "cell_type": "code",
   "execution_count": null,
   "metadata": {
    "collapsed": true
   },
   "outputs": [],
   "source": []
  }
 ],
 "metadata": {
  "kernelspec": {
   "display_name": "Python 3",
   "language": "python",
   "name": "python3"
  },
  "language_info": {
   "codemirror_mode": {
    "name": "ipython",
    "version": 3
   },
   "file_extension": ".py",
   "mimetype": "text/x-python",
   "name": "python",
   "nbconvert_exporter": "python",
   "pygments_lexer": "ipython3",
   "version": "3.8.5"
  }
 },
 "nbformat": 4,
 "nbformat_minor": 2
}
