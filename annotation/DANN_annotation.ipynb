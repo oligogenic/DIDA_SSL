{
 "cells": [
  {
   "cell_type": "code",
   "execution_count": 16,
   "metadata": {
    "scrolled": true
   },
   "outputs": [
    {
     "name": "stdout",
     "output_type": "stream",
     "text": [
      "2\t177054850\tvar1\tC\tG\tPASS\t.\t.\tGT\t1/1\n",
      "\n",
      "2\t227906917\tvar2\tC\tG\tPASS\t.\t.\tGT\t0/1\n",
      "\n",
      "2\t228120751\tvar3\tG\tA\tPASS\t.\t.\tGT\t0/1\n",
      "\n",
      "17\t73892603\tvar4\tA\tC\tPASS\t.\t.\tGT\t0/1\n",
      "\n",
      "21\t45730895\tvar5\tG\tC\tPASS\t.\t.\tGT\t1/0\n",
      "\n",
      "21\t45719992\tvar7\tG\tA\tPASS\t.\t.\tGT\t1/0\n",
      "\n",
      "X\t107841975\tvar6\tC\tA\tPASS\t.\t.\tGT\t0/1\n"
     ]
    }
   ],
   "source": [
    "# VCF without header\n",
    "f = open('test.vcf', 'r')\n",
    "lines = f.readlines()\n",
    "\n",
    "variants = []\n",
    "for line in lines:\n",
    "    print(line)\n",
    "    s_line = line.strip().split('\\t')\n",
    "    #           Chromosome    position.     reference.    alternative\n",
    "    qstr = 'chr'+s_line[0]+':'+s_line[1]+':'+s_line[3]+':'+s_line[4]\n",
    "    variants.append(qstr)\n"
   ]
  },
  {
   "cell_type": "code",
   "execution_count": 17,
   "metadata": {},
   "outputs": [],
   "source": [
    "from varsome_api.client import VarSomeAPIClient\n",
    "nf = open('varsome_token', 'r')\n",
    "api_key= nf.readline().strip()\n",
    "api = VarSomeAPIClient(api_key)"
   ]
  },
  {
   "cell_type": "code",
   "execution_count": 18,
   "metadata": {},
   "outputs": [
    {
     "name": "stderr",
     "output_type": "stream",
     "text": [
      "2018-09-11 14:11:40,749 - varsome_api.client - INFO - Time between request and response 0:00:01.097555\n",
      "2018-09-11 14:11:40,749 - varsome_api.client - INFO - Time between request and response 0:00:01.097555\n",
      "2018-09-11 14:11:40,754 - varsome_api.client - INFO - Content length 1412\n",
      "2018-09-11 14:11:40,754 - varsome_api.client - INFO - Content length 1412\n"
     ]
    }
   ],
   "source": [
    "results = api.batch_lookup(variants, params={'add-source-databases': 'dann-snvs, ncbi-dbsnp, dbnsfp-dbscsnv'}, ref_genome='hg19')"
   ]
  },
  {
   "cell_type": "code",
   "execution_count": 19,
   "metadata": {
    "scrolled": true
   },
   "outputs": [
    {
     "name": "stdout",
     "output_type": "stream",
     "text": [
      "0\n",
      "1\n",
      "2\n",
      "3\n",
      "4\n",
      "5\n",
      "6\n"
     ]
    }
   ],
   "source": [
    "fo = open('test_output.tsv', 'w')\n",
    "\n",
    "\n",
    "\n",
    "for i in range(len(lines)): \n",
    "    line = lines[i]\n",
    "    e = results[i]\n",
    "    print(i)\n",
    "    try:\n",
    "\n",
    "        fo.write(line.strip())\n",
    "        fo.write('\\t')\n",
    "        if 'chromosome' in e:   \n",
    "            if 'dann_snvs' in e:\n",
    "                fo.write(str(e['dann_snvs'][0]['dann_score']))\n",
    "                fo.write('\\n')\n",
    "            else:\n",
    "                fo.write('NA')\n",
    "                fo.write('\\n')\n",
    "        else:\n",
    "            fo.write('NA')\n",
    "            fo.write('\\n')\n",
    "            e['chromosome'][3:]\n",
    "                \n",
    "    except Exception as ex:\n",
    "        print(ex)\n",
    "        print(e)\n",
    "        print('\\n')        "
   ]
  }
 ],
 "metadata": {
  "kernelspec": {
   "display_name": "Python 3",
   "language": "python",
   "name": "python3"
  },
  "language_info": {
   "codemirror_mode": {
    "name": "ipython",
    "version": 3
   },
   "file_extension": ".py",
   "mimetype": "text/x-python",
   "name": "python",
   "nbconvert_exporter": "python",
   "pygments_lexer": "ipython3",
   "version": "3.8.5"
  }
 },
 "nbformat": 4,
 "nbformat_minor": 2
}
