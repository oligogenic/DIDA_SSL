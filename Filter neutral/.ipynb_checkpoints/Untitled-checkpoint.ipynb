{
 "cells": [
  {
   "cell_type": "code",
   "execution_count": 1,
   "metadata": {},
   "outputs": [
    {
     "name": "stdout",
     "output_type": "stream",
     "text": [
      "Populating the interactive namespace from numpy and matplotlib\n"
     ]
    }
   ],
   "source": [
    "import pandas as pd\n",
    "%pylab inline"
   ]
  },
  {
   "cell_type": "code",
   "execution_count": 2,
   "metadata": {},
   "outputs": [
    {
     "data": {
      "text/html": [
       "<div>\n",
       "<style>\n",
       "    .dataframe thead tr:only-child th {\n",
       "        text-align: right;\n",
       "    }\n",
       "\n",
       "    .dataframe thead th {\n",
       "        text-align: left;\n",
       "    }\n",
       "\n",
       "    .dataframe tbody tr th {\n",
       "        vertical-align: top;\n",
       "    }\n",
       "</style>\n",
       "<table border=\"1\" class=\"dataframe\">\n",
       "  <thead>\n",
       "    <tr style=\"text-align: right;\">\n",
       "      <th></th>\n",
       "      <th>DD</th>\n",
       "      <th>CO</th>\n",
       "      <th>TD</th>\n",
       "    </tr>\n",
       "    <tr>\n",
       "      <th>id</th>\n",
       "      <th></th>\n",
       "      <th></th>\n",
       "      <th></th>\n",
       "    </tr>\n",
       "  </thead>\n",
       "  <tbody>\n",
       "    <tr>\n",
       "      <th>2865</th>\n",
       "      <td>0.808202</td>\n",
       "      <td>0.166231</td>\n",
       "      <td>0.025567</td>\n",
       "    </tr>\n",
       "    <tr>\n",
       "      <th>4398</th>\n",
       "      <td>0.024618</td>\n",
       "      <td>0.515768</td>\n",
       "      <td>0.459613</td>\n",
       "    </tr>\n",
       "    <tr>\n",
       "      <th>5033</th>\n",
       "      <td>0.941488</td>\n",
       "      <td>0.013137</td>\n",
       "      <td>0.045375</td>\n",
       "    </tr>\n",
       "    <tr>\n",
       "      <th>10893</th>\n",
       "      <td>0.125482</td>\n",
       "      <td>0.310610</td>\n",
       "      <td>0.563908</td>\n",
       "    </tr>\n",
       "    <tr>\n",
       "      <th>11097</th>\n",
       "      <td>0.518922</td>\n",
       "      <td>0.044466</td>\n",
       "      <td>0.436612</td>\n",
       "    </tr>\n",
       "  </tbody>\n",
       "</table>\n",
       "</div>"
      ],
      "text/plain": [
       "             DD        CO        TD\n",
       "id                                 \n",
       "2865   0.808202  0.166231  0.025567\n",
       "4398   0.024618  0.515768  0.459613\n",
       "5033   0.941488  0.013137  0.045375\n",
       "10893  0.125482  0.310610  0.563908\n",
       "11097  0.518922  0.044466  0.436612"
      ]
     },
     "execution_count": 2,
     "metadata": {},
     "output_type": "execute_result"
    }
   ],
   "source": [
    "df_results = pd.read_csv('output.csv', index_col=0)\n",
    "df_results.head()"
   ]
  },
  {
   "cell_type": "code",
   "execution_count": 3,
   "metadata": {
    "collapsed": true
   },
   "outputs": [],
   "source": [
    "def make_hist(data, n_bars):\n",
    "    assert n_bars > 0, \"n_bars is negative or null.\"\n",
    "    result = [0 for _ in range(n_bars)]\n",
    "    step = 1/n_bars\n",
    "    for x in data:\n",
    "        result[int(x/step)] += 1\n",
    "    return result"
   ]
  },
  {
   "cell_type": "code",
   "execution_count": 6,
   "metadata": {},
   "outputs": [
    {
     "data": {
      "image/png": "[encoded data removed]",
      "text/plain": [
       "<matplotlib.figure.Figure at 0x1c387de4860>"
      ]
     },
     "metadata": {},
     "output_type": "display_data"
    }
   ],
   "source": [
    "figsize(12, 8)\n",
    "\n",
    "n_bars = 1000\n",
    "\n",
    "x = arange(n_bars)\n",
    "\n",
    "bar(x/n_bars, make_hist(df_results['DD'], n_bars), 1/n_bars, color='green', label='dual molecular diagnoses', alpha=0.5)\n",
    "bar(x/n_bars, make_hist(df_results['TD'], n_bars), 1/n_bars, color='red', label='true digenic', alpha=0.5)\n",
    "bar(x/n_bars, make_hist(df_results['CO'], n_bars), 1/n_bars, color='blue', label='monogenic+modifier', alpha=0.5)\n",
    "\n",
    "legend()\n",
    "title('Prediction distribution of 10,000 neutral combinations. ')\n",
    "savefig('pred.png', format='png')"
   ]
  },
  {
   "cell_type": "code",
   "execution_count": 66,
   "metadata": {},
   "outputs": [
    {
     "data": {
      "text/html": [
       "<div>\n",
       "<style>\n",
       "    .dataframe thead tr:only-child th {\n",
       "        text-align: right;\n",
       "    }\n",
       "\n",
       "    .dataframe thead th {\n",
       "        text-align: left;\n",
       "    }\n",
       "\n",
       "    .dataframe tbody tr th {\n",
       "        vertical-align: top;\n",
       "    }\n",
       "</style>\n",
       "<table border=\"1\" class=\"dataframe\">\n",
       "  <thead>\n",
       "    <tr style=\"text-align: right;\">\n",
       "      <th></th>\n",
       "      <th>CADD1</th>\n",
       "      <th>CADD2</th>\n",
       "      <th>RecA</th>\n",
       "      <th>EssA</th>\n",
       "      <th>CADD3</th>\n",
       "      <th>CADD4</th>\n",
       "      <th>RecB</th>\n",
       "      <th>EssB</th>\n",
       "      <th>Path</th>\n",
       "      <th>DE</th>\n",
       "      <th>Pair</th>\n",
       "    </tr>\n",
       "    <tr>\n",
       "      <th>ID</th>\n",
       "      <th></th>\n",
       "      <th></th>\n",
       "      <th></th>\n",
       "      <th></th>\n",
       "      <th></th>\n",
       "      <th></th>\n",
       "      <th></th>\n",
       "      <th></th>\n",
       "      <th></th>\n",
       "      <th></th>\n",
       "      <th></th>\n",
       "    </tr>\n",
       "  </thead>\n",
       "  <tbody>\n",
       "    <tr>\n",
       "      <th>dd001</th>\n",
       "      <td>4.301835</td>\n",
       "      <td>-1.0</td>\n",
       "      <td>0.34</td>\n",
       "      <td>0.0</td>\n",
       "      <td>3.594566</td>\n",
       "      <td>-1.0</td>\n",
       "      <td>0.30</td>\n",
       "      <td>1.0</td>\n",
       "      <td>1</td>\n",
       "      <td>CO</td>\n",
       "      <td>KCNQ1/KCNH2</td>\n",
       "    </tr>\n",
       "    <tr>\n",
       "      <th>dd002</th>\n",
       "      <td>-0.106983</td>\n",
       "      <td>-1.0</td>\n",
       "      <td>0.16</td>\n",
       "      <td>1.0</td>\n",
       "      <td>5.409467</td>\n",
       "      <td>-1.0</td>\n",
       "      <td>0.51</td>\n",
       "      <td>1.0</td>\n",
       "      <td>1</td>\n",
       "      <td>TD</td>\n",
       "      <td>GJB3/GJB2</td>\n",
       "    </tr>\n",
       "    <tr>\n",
       "      <th>dd003</th>\n",
       "      <td>-0.724535</td>\n",
       "      <td>-1.0</td>\n",
       "      <td>0.16</td>\n",
       "      <td>1.0</td>\n",
       "      <td>5.409467</td>\n",
       "      <td>-1.0</td>\n",
       "      <td>0.51</td>\n",
       "      <td>1.0</td>\n",
       "      <td>1</td>\n",
       "      <td>TD</td>\n",
       "      <td>GJB3/GJB2</td>\n",
       "    </tr>\n",
       "    <tr>\n",
       "      <th>dd004</th>\n",
       "      <td>-0.724535</td>\n",
       "      <td>-1.0</td>\n",
       "      <td>0.16</td>\n",
       "      <td>1.0</td>\n",
       "      <td>4.711890</td>\n",
       "      <td>-1.0</td>\n",
       "      <td>0.51</td>\n",
       "      <td>1.0</td>\n",
       "      <td>1</td>\n",
       "      <td>TD</td>\n",
       "      <td>GJB3/GJB2</td>\n",
       "    </tr>\n",
       "    <tr>\n",
       "      <th>dd005</th>\n",
       "      <td>-1.701666</td>\n",
       "      <td>-1.0</td>\n",
       "      <td>0.20</td>\n",
       "      <td>1.0</td>\n",
       "      <td>2.796133</td>\n",
       "      <td>-1.0</td>\n",
       "      <td>0.44</td>\n",
       "      <td>0.0</td>\n",
       "      <td>0</td>\n",
       "      <td>TD</td>\n",
       "      <td>FOXI1/SLC26A4</td>\n",
       "    </tr>\n",
       "  </tbody>\n",
       "</table>\n",
       "</div>"
      ],
      "text/plain": [
       "          CADD1  CADD2  RecA  EssA     CADD3  CADD4  RecB  EssB  Path  DE  \\\n",
       "ID                                                                          \n",
       "dd001  4.301835   -1.0  0.34   0.0  3.594566   -1.0  0.30   1.0     1  CO   \n",
       "dd002 -0.106983   -1.0  0.16   1.0  5.409467   -1.0  0.51   1.0     1  TD   \n",
       "dd003 -0.724535   -1.0  0.16   1.0  5.409467   -1.0  0.51   1.0     1  TD   \n",
       "dd004 -0.724535   -1.0  0.16   1.0  4.711890   -1.0  0.51   1.0     1  TD   \n",
       "dd005 -1.701666   -1.0  0.20   1.0  2.796133   -1.0  0.44   0.0     0  TD   \n",
       "\n",
       "                Pair  \n",
       "ID                    \n",
       "dd001    KCNQ1/KCNH2  \n",
       "dd002      GJB3/GJB2  \n",
       "dd003      GJB3/GJB2  \n",
       "dd004      GJB3/GJB2  \n",
       "dd005  FOXI1/SLC26A4  "
      ]
     },
     "execution_count": 66,
     "metadata": {},
     "output_type": "execute_result"
    }
   ],
   "source": [
    "df_training = pd.read_csv('dida_posey_to_predict.csv', index_col=0)\n",
    "df_training.head()"
   ]
  },
  {
   "cell_type": "code",
   "execution_count": 67,
   "metadata": {},
   "outputs": [
    {
     "data": {
      "text/html": [
       "<div>\n",
       "<style>\n",
       "    .dataframe thead tr:only-child th {\n",
       "        text-align: right;\n",
       "    }\n",
       "\n",
       "    .dataframe thead th {\n",
       "        text-align: left;\n",
       "    }\n",
       "\n",
       "    .dataframe tbody tr th {\n",
       "        vertical-align: top;\n",
       "    }\n",
       "</style>\n",
       "<table border=\"1\" class=\"dataframe\">\n",
       "  <thead>\n",
       "    <tr style=\"text-align: right;\">\n",
       "      <th></th>\n",
       "      <th>CADD1</th>\n",
       "      <th>CADD2</th>\n",
       "      <th>RecA</th>\n",
       "      <th>EssA</th>\n",
       "      <th>CADD3</th>\n",
       "      <th>CADD4</th>\n",
       "      <th>RecB</th>\n",
       "      <th>EssB</th>\n",
       "      <th>Path</th>\n",
       "    </tr>\n",
       "    <tr>\n",
       "      <th>id</th>\n",
       "      <th></th>\n",
       "      <th></th>\n",
       "      <th></th>\n",
       "      <th></th>\n",
       "      <th></th>\n",
       "      <th></th>\n",
       "      <th></th>\n",
       "      <th></th>\n",
       "      <th></th>\n",
       "    </tr>\n",
       "  </thead>\n",
       "  <tbody>\n",
       "    <tr>\n",
       "      <th>2865</th>\n",
       "      <td>6.656558</td>\n",
       "      <td>-1</td>\n",
       "      <td>0.13153</td>\n",
       "      <td>1</td>\n",
       "      <td>-0.944414</td>\n",
       "      <td>-1</td>\n",
       "      <td>0.10188</td>\n",
       "      <td>1</td>\n",
       "      <td>0</td>\n",
       "    </tr>\n",
       "    <tr>\n",
       "      <th>4398</th>\n",
       "      <td>0.343929</td>\n",
       "      <td>-1</td>\n",
       "      <td>0.15393</td>\n",
       "      <td>0</td>\n",
       "      <td>4.444953</td>\n",
       "      <td>-1</td>\n",
       "      <td>0.19158</td>\n",
       "      <td>0</td>\n",
       "      <td>1</td>\n",
       "    </tr>\n",
       "    <tr>\n",
       "      <th>5033</th>\n",
       "      <td>6.170783</td>\n",
       "      <td>-1</td>\n",
       "      <td>0.40588</td>\n",
       "      <td>1</td>\n",
       "      <td>5.602125</td>\n",
       "      <td>-1</td>\n",
       "      <td>0.11870</td>\n",
       "      <td>1</td>\n",
       "      <td>0</td>\n",
       "    </tr>\n",
       "    <tr>\n",
       "      <th>10893</th>\n",
       "      <td>0.691827</td>\n",
       "      <td>-1</td>\n",
       "      <td>0.16909</td>\n",
       "      <td>0</td>\n",
       "      <td>5.615356</td>\n",
       "      <td>-1</td>\n",
       "      <td>0.08968</td>\n",
       "      <td>1</td>\n",
       "      <td>0</td>\n",
       "    </tr>\n",
       "    <tr>\n",
       "      <th>11097</th>\n",
       "      <td>0.691827</td>\n",
       "      <td>-1</td>\n",
       "      <td>0.16909</td>\n",
       "      <td>0</td>\n",
       "      <td>7.571418</td>\n",
       "      <td>-1</td>\n",
       "      <td>0.27947</td>\n",
       "      <td>0</td>\n",
       "      <td>0</td>\n",
       "    </tr>\n",
       "  </tbody>\n",
       "</table>\n",
       "</div>"
      ],
      "text/plain": [
       "          CADD1  CADD2     RecA  EssA     CADD3  CADD4     RecB  EssB  Path\n",
       "id                                                                         \n",
       "2865   6.656558     -1  0.13153     1 -0.944414     -1  0.10188     1     0\n",
       "4398   0.343929     -1  0.15393     0  4.444953     -1  0.19158     0     1\n",
       "5033   6.170783     -1  0.40588     1  5.602125     -1  0.11870     1     0\n",
       "10893  0.691827     -1  0.16909     0  5.615356     -1  0.08968     1     0\n",
       "11097  0.691827     -1  0.16909     0  7.571418     -1  0.27947     0     0"
      ]
     },
     "execution_count": 67,
     "metadata": {},
     "output_type": "execute_result"
    }
   ],
   "source": [
    "df_neutral = pd.read_csv('to_test.csv', index_col=0)\n",
    "df_neutral.head()"
   ]
  },
  {
   "cell_type": "code",
   "execution_count": 62,
   "metadata": {
    "collapsed": true
   },
   "outputs": [],
   "source": [
    "comb_dd = df_training[df_training['DE'] == 'DD']\n",
    "comb_co = df_training[df_training['DE'] == 'CO']\n",
    "comb_td = df_training[df_training['DE'] == 'TD']"
   ]
  },
  {
   "cell_type": "code",
   "execution_count": 70,
   "metadata": {
    "collapsed": true
   },
   "outputs": [],
   "source": [
    "from scipy.stats import ttest_ind\n",
    "\n",
    "features = \"CADD1,CADD2,RecA,EssA,CADD3,CADD4,RecB,EssB,Path\".split(',')\n",
    "\n",
    "results_dd, results_co, results_td = [], [], []\n",
    "\n",
    "for f in features:\n",
    "    to_compare = df_neutral[f]\n",
    "    results_dd.append(ttest_ind(to_compare, comb_dd[f]).pvalue)\n",
    "    results_co.append(ttest_ind(to_compare, comb_co[f]).pvalue)\n",
    "    results_td.append(ttest_ind(to_compare, comb_td[f]).pvalue)"
   ]
  },
  {
   "cell_type": "code",
   "execution_count": 7,
   "metadata": {},
   "outputs": [
    {
     "ename": "NameError",
     "evalue": "name 'results_dd' is not defined",
     "output_type": "error",
     "traceback": [
      "\u001b[1;31m---------------------------------------------------------------------------\u001b[0m",
      "\u001b[1;31mNameError\u001b[0m                                 Traceback (most recent call last)",
      "\u001b[1;32m<ipython-input-7-1e580a649b73>\u001b[0m in \u001b[0;36m<module>\u001b[1;34m()\u001b[0m\n\u001b[0;32m      3\u001b[0m \u001b[0mxs\u001b[0m \u001b[1;33m=\u001b[0m \u001b[0marange\u001b[0m\u001b[1;33m(\u001b[0m\u001b[1;36m9\u001b[0m\u001b[1;33m)\u001b[0m \u001b[1;33m/\u001b[0m \u001b[1;36m9\u001b[0m\u001b[1;33m\u001b[0m\u001b[0m\n\u001b[0;32m      4\u001b[0m \u001b[1;33m\u001b[0m\u001b[0m\n\u001b[1;32m----> 5\u001b[1;33m \u001b[0mbar\u001b[0m\u001b[1;33m(\u001b[0m\u001b[0mxs\u001b[0m\u001b[1;33m,\u001b[0m \u001b[0mresults_dd\u001b[0m\u001b[1;33m,\u001b[0m \u001b[0mwidth\u001b[0m\u001b[1;33m,\u001b[0m \u001b[0mcolor\u001b[0m\u001b[1;33m=\u001b[0m\u001b[1;34m\"green\"\u001b[0m\u001b[1;33m,\u001b[0m \u001b[0mlabel\u001b[0m\u001b[1;33m=\u001b[0m\u001b[1;34m\"Dual molecular diagnoses\"\u001b[0m\u001b[1;33m,\u001b[0m \u001b[0mbottom\u001b[0m\u001b[1;33m=\u001b[0m\u001b[1;36m10e-5\u001b[0m\u001b[1;33m)\u001b[0m\u001b[1;33m\u001b[0m\u001b[0m\n\u001b[0m\u001b[0;32m      6\u001b[0m \u001b[0mbar\u001b[0m\u001b[1;33m(\u001b[0m\u001b[0mxs\u001b[0m \u001b[1;33m+\u001b[0m \u001b[0mwidth\u001b[0m\u001b[1;33m,\u001b[0m \u001b[0mresults_td\u001b[0m\u001b[1;33m,\u001b[0m \u001b[0mwidth\u001b[0m\u001b[1;33m,\u001b[0m \u001b[0mcolor\u001b[0m\u001b[1;33m=\u001b[0m\u001b[1;34m\"red\"\u001b[0m\u001b[1;33m,\u001b[0m \u001b[0mlabel\u001b[0m\u001b[1;33m=\u001b[0m\u001b[1;34m\"True digenic\"\u001b[0m\u001b[1;33m,\u001b[0m \u001b[0mbottom\u001b[0m\u001b[1;33m=\u001b[0m\u001b[1;36m10e-5\u001b[0m\u001b[1;33m)\u001b[0m\u001b[1;33m\u001b[0m\u001b[0m\n\u001b[0;32m      7\u001b[0m \u001b[0mbar\u001b[0m\u001b[1;33m(\u001b[0m\u001b[0mxs\u001b[0m \u001b[1;33m+\u001b[0m \u001b[1;36m2\u001b[0m\u001b[1;33m*\u001b[0m\u001b[0mwidth\u001b[0m\u001b[1;33m,\u001b[0m \u001b[0mresults_co\u001b[0m\u001b[1;33m,\u001b[0m \u001b[0mwidth\u001b[0m\u001b[1;33m,\u001b[0m \u001b[0mcolor\u001b[0m\u001b[1;33m=\u001b[0m\u001b[1;34m\"blue\"\u001b[0m\u001b[1;33m,\u001b[0m \u001b[0mlabel\u001b[0m\u001b[1;33m=\u001b[0m\u001b[1;34m\"Monogenic+modifier\"\u001b[0m\u001b[1;33m,\u001b[0m \u001b[0mbottom\u001b[0m\u001b[1;33m=\u001b[0m\u001b[1;36m10e-5\u001b[0m\u001b[1;33m)\u001b[0m\u001b[1;33m\u001b[0m\u001b[0m\n",
      "\u001b[1;31mNameError\u001b[0m: name 'results_dd' is not defined"
     ]
    }
   ],
   "source": [
    "figsize(12, 8)\n",
    "width = 1/45\n",
    "xs = arange(9) / 9\n",
    "\n",
    "bar(xs, results_dd, width, color=\"green\", label=\"Dual molecular diagnoses\", bottom=10e-5)\n",
    "bar(xs + width, results_td, width, color=\"red\", label=\"True digenic\", bottom=10e-5)\n",
    "bar(xs + 2*width, results_co, width, color=\"blue\", label=\"Monogenic+modifier\", bottom=10e-5)\n",
    "\n",
    "xticks(xs + width, features)\n",
    "yscale('-log')\n",
    "\n",
    "legend()\n",
    "title('Feature correlation with neutral combinations (p-value)')\n",
    "savefig('neutral_correlation.png', format='png')"
   ]
  },
  {
   "cell_type": "code",
   "execution_count": 103,
   "metadata": {
    "collapsed": true
   },
   "outputs": [],
   "source": [
    "pro_dd = list(map(float, '3.3309770109,0.00691695358845,0.0734903704074,-0.165087377417,1.33279383644,0.405428468429,-0.283987072497,0.518754045406,-0.753278423546'.split(',')))\n",
    "pro_co = list(map(float, '-0.34366018446,0.258716504003,0.0503796414212,-0.340955053549,0.0718445935786,-0.0268233721078,1.74397382432,0.0155778164544,1.64867510838'.split(',')))\n",
    "pro_td = list(map(float, '0.447308920306,-0.00186201209071,0.154110617669,0.291487426186,-0.00309369312084,0.0186961203548,-0.0631709553262,0.894886638639,0.170846637972'.split(',')))\n",
    "con_dd = list(-i for i in map(float, '1.4432322634,0.0299837853724,0.0512591721785,-0.0164131089826,0.694056015244,-0.00760599286703,-0.0136049433251,0.173861891519,0.262448944932'.split(',')))\n",
    "con_co = list(-i for i in map(float, '0.0425443023195,-0.00282999554803,0.0214346513841,0.0418534613134,0.020241011304,0.00197820830622,0.0531926377651,0.0228434108746,-0.0428507166706'.split(',')))\n",
    "con_td = list(-i for i in map(float, '0.656288535022,0.0260538681224,-0.0369032462145,-0.112408740832,0.240781603641,0.098669259665,0.388073746822,0.976736733299,0.0266557007571'.split(',')))"
   ]
  },
  {
   "cell_type": "code",
   "execution_count": 114,
   "metadata": {},
   "outputs": [
    {
     "data": {
      "image/png": "[encoded data removed]",
      "text/plain": [
       "<matplotlib.figure.Figure at 0x20b9b5ad0b8>"
      ]
     },
     "metadata": {},
     "output_type": "display_data"
    }
   ],
   "source": [
    "figsize(12, 8)\n",
    "width = 1/45\n",
    "xs = arange(9) / 9\n",
    "\n",
    "bar(xs, pro_dd, width, color=\"green\", label=\"Dual molecular diagnoses\", alpha=0.6)\n",
    "bar(xs, con_dd, width, color=\"green\", alpha=0.6)\n",
    "bar(xs + width, pro_td, width, color=\"red\", label=\"True digenic\", alpha=0.6)\n",
    "bar(xs + width, con_td, width, color=\"red\", alpha=0.6)\n",
    "bar(xs + 2*width, pro_co, width, color=\"blue\", label=\"Monogenic+modifier\", alpha=0.6)\n",
    "bar(xs + 2*width, con_co, width, color=\"blue\", alpha=0.6)\n",
    "\n",
    "grid(linestyle='--')\n",
    "xticks(xs + width, features)\n",
    "\n",
    "legend()\n",
    "title('Feature contribution to neutral combinations classification (treeinterpreter)')\n",
    "savefig('neutral_contribution.png', format='png')"
   ]
  },
  {
   "cell_type": "code",
   "execution_count": null,
   "metadata": {
    "collapsed": true
   },
   "outputs": [],
   "source": []
  }
 ],
 "metadata": {
  "kernelspec": {
   "display_name": "Python 3",
   "language": "python",
   "name": "python3"
  },
  "language_info": {
   "codemirror_mode": {
    "name": "ipython",
    "version": 3
   },
   "file_extension": ".py",
   "mimetype": "text/x-python",
   "name": "python",
   "nbconvert_exporter": "python",
   "pygments_lexer": "ipython3",
   "version": "3.6.1"
  }
 },
 "nbformat": 4,
 "nbformat_minor": 2
}
